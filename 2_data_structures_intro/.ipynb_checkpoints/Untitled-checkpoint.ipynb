{
 "cells": [
  {
   "cell_type": "code",
   "execution_count": 9,
   "id": "d0a0e058",
   "metadata": {},
   "outputs": [
    {
     "data": {
      "text/html": [
       "<style>\n",
       ".list-inline {list-style: none; margin:0; padding: 0}\n",
       ".list-inline>li {display: inline-block}\n",
       ".list-inline>li:not(:last-child)::after {content: \"\\00b7\"; padding: 0 .5ex}\n",
       "</style>\n",
       "<ol class=list-inline><li>'M'</li><li>'F'</li><li>'F'</li><li>'O'</li><li>'F'</li><li>'M'</li></ol>\n"
      ],
      "text/latex": [
       "\\begin{enumerate*}\n",
       "\\item 'M'\n",
       "\\item 'F'\n",
       "\\item 'F'\n",
       "\\item 'O'\n",
       "\\item 'F'\n",
       "\\item 'M'\n",
       "\\end{enumerate*}\n"
      ],
      "text/markdown": [
       "1. 'M'\n",
       "2. 'F'\n",
       "3. 'F'\n",
       "4. 'O'\n",
       "5. 'F'\n",
       "6. 'M'\n",
       "\n",
       "\n"
      ],
      "text/plain": [
       "[1] \"M\" \"F\" \"F\" \"O\" \"F\" \"M\""
      ]
     },
     "metadata": {},
     "output_type": "display_data"
    }
   ],
   "source": [
    "# factors take vector of objects and returns factor\n",
    "gender <- c(\"M\", \"F\", \"F\", \"O\", \"F\", \"M\")\n",
    "gender"
   ]
  },
  {
   "cell_type": "code",
   "execution_count": 10,
   "id": "770cea82",
   "metadata": {},
   "outputs": [
    {
     "data": {
      "text/html": [
       "<style>\n",
       ".list-inline {list-style: none; margin:0; padding: 0}\n",
       ".list-inline>li {display: inline-block}\n",
       ".list-inline>li:not(:last-child)::after {content: \"\\00b7\"; padding: 0 .5ex}\n",
       "</style>\n",
       "<ol class=list-inline><li>M</li><li>F</li><li>F</li><li>O</li><li>F</li><li>M</li></ol>\n",
       "\n",
       "<details>\n",
       "\t<summary style=display:list-item;cursor:pointer>\n",
       "\t\t<strong>Levels</strong>:\n",
       "\t</summary>\n",
       "\t<style>\n",
       "\t.list-inline {list-style: none; margin:0; padding: 0}\n",
       "\t.list-inline>li {display: inline-block}\n",
       "\t.list-inline>li:not(:last-child)::after {content: \"\\00b7\"; padding: 0 .5ex}\n",
       "\t</style>\n",
       "\t<ol class=list-inline><li>'F'</li><li>'M'</li><li>'O'</li></ol>\n",
       "</details>"
      ],
      "text/latex": [
       "\\begin{enumerate*}\n",
       "\\item M\n",
       "\\item F\n",
       "\\item F\n",
       "\\item O\n",
       "\\item F\n",
       "\\item M\n",
       "\\end{enumerate*}\n",
       "\n",
       "\\emph{Levels}: \\begin{enumerate*}\n",
       "\\item 'F'\n",
       "\\item 'M'\n",
       "\\item 'O'\n",
       "\\end{enumerate*}\n"
      ],
      "text/markdown": [
       "1. M\n",
       "2. F\n",
       "3. F\n",
       "4. O\n",
       "5. F\n",
       "6. M\n",
       "\n",
       "\n",
       "\n",
       "**Levels**: 1. 'F'\n",
       "2. 'M'\n",
       "3. 'O'\n",
       "\n",
       "\n"
      ],
      "text/plain": [
       "[1] M F F O F M\n",
       "Levels: F M O"
      ]
     },
     "metadata": {},
     "output_type": "display_data"
    }
   ],
   "source": [
    "gender_factor <- factor(gender)\n",
    "gender_factor"
   ]
  },
  {
   "cell_type": "code",
   "execution_count": 11,
   "id": "2f51bcfc",
   "metadata": {},
   "outputs": [
    {
     "name": "stdout",
     "output_type": "stream",
     "text": [
      " Factor w/ 3 levels \"F\",\"M\",\"O\": 2 1 1 3 1 2\n"
     ]
    }
   ],
   "source": [
    "str(gender_factor)"
   ]
  },
  {
   "cell_type": "code",
   "execution_count": 12,
   "id": "4738fcb3",
   "metadata": {},
   "outputs": [
    {
     "name": "stdout",
     "output_type": "stream",
     "text": [
      " Ord.factor w/ 3 levels \"F\"<\"M\"<\"O\": 2 1 1 3 1 2\n"
     ]
    }
   ],
   "source": [
    "# change nominal value to orginal variable by saying factor is now ordered\n",
    "gender_factor_ordered <- factor(gender, ordered = TRUE)\n",
    "str(gender_factor_ordered) "
   ]
  },
  {
   "cell_type": "code",
   "execution_count": 14,
   "id": "b985209c",
   "metadata": {},
   "outputs": [
    {
     "name": "stdout",
     "output_type": "stream",
     "text": [
      " Ord.factor w/ 3 levels \"O\"<\"M\"<\"F\": 2 3 3 1 3 2\n"
     ]
    }
   ],
   "source": [
    "gender_factor_reordered <- factor(gender, ordered = TRUE, levels = c(\"O\", \"M\", \"F\"))\n",
    "str(gender_factor_reordered)"
   ]
  },
  {
   "cell_type": "code",
   "execution_count": 16,
   "id": "a10768b1",
   "metadata": {},
   "outputs": [
    {
     "name": "stdout",
     "output_type": "stream",
     "text": [
      "[1] 3\n",
      "[1] 17\n"
     ]
    },
    {
     "data": {
      "text/html": [
       "171.581259625517"
      ],
      "text/latex": [
       "171.581259625517"
      ],
      "text/markdown": [
       "171.581259625517"
      ],
      "text/plain": [
       "[1] 171.5813"
      ]
     },
     "metadata": {},
     "output_type": "display_data"
    }
   ],
   "source": [
    "# function is bundle of code that you group together to do specific thing (algorithm or task)\n",
    "some_func <- function(x, y){\n",
    "    print(x)\n",
    "    print(y)\n",
    "    ((1.2 + x) / 7.3) + (y/1.3)^2\n",
    "}\n",
    "some_func(3, 17)"
   ]
  },
  {
   "cell_type": "code",
   "execution_count": null,
   "id": "9bc5d2d2",
   "metadata": {},
   "outputs": [],
   "source": [
    "# sum of vector, first element, first/5\n",
    "vector <- c(1,2,3,4,5)\n",
    "sum(1,2,3,4,5), 1, 5"
   ]
  },
  {
   "cell_type": "code",
   "execution_count": null,
   "id": "a5941df9",
   "metadata": {},
   "outputs": [],
   "source": []
  }
 ],
 "metadata": {
  "kernelspec": {
   "display_name": "R",
   "language": "R",
   "name": "ir"
  },
  "language_info": {
   "codemirror_mode": "r",
   "file_extension": ".r",
   "mimetype": "text/x-r-source",
   "name": "R",
   "pygments_lexer": "r",
   "version": "4.2.1"
  }
 },
 "nbformat": 4,
 "nbformat_minor": 5
}
